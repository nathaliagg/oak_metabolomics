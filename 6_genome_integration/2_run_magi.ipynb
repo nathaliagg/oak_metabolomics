{
 "cells": [
  {
   "cell_type": "markdown",
   "metadata": {},
   "source": [
    "I moved to the HPC.\n",
    "\n",
    "Make an interactive job and let MAGI run (takes ~ 30 minutes)."
   ]
  },
  {
   "cell_type": "markdown",
   "metadata": {},
   "source": [
    "```\n",
    "[nathalia@HPC] $  qsub -I -N magi -W group_list=tfaily -q standard -l select=1:ncpus=12:mem=72gb -l walltime=12:00:00\n",
    "qsub: waiting for job 3811545.head1.cm.cluster to start\n",
    "qsub: job 3811545.head1.cm.cluster ready\n",
    "\n",
    "[nathalia@HPC] $  cd /xdisk/tfaily/mig2020/extra/nathaliagg/uren_oak_metabolomics/magi/\n",
    "\n",
    "[nathalia@HPC] $  ./run_magi.sh \n",
    "Starting MAGI at Fri Jan  8 14:12:21 MST 2021\n",
    "Done at Fri Jan  8 14:41:47 MST 2021\n",
    "\n",
    "```"
   ]
  },
  {
   "cell_type": "code",
   "execution_count": null,
   "metadata": {},
   "outputs": [],
   "source": []
  }
 ],
 "metadata": {
  "kernelspec": {
   "display_name": "Bash",
   "language": "bash",
   "name": "bash"
  },
  "language_info": {
   "codemirror_mode": "shell",
   "file_extension": ".sh",
   "mimetype": "text/x-sh",
   "name": "bash"
  },
  "toc": {
   "base_numbering": 1,
   "nav_menu": {},
   "number_sections": true,
   "sideBar": true,
   "skip_h1_title": false,
   "title_cell": "Table of Contents",
   "title_sidebar": "Contents",
   "toc_cell": false,
   "toc_position": {},
   "toc_section_display": true,
   "toc_window_display": false
  },
  "varInspector": {
   "cols": {
    "lenName": 16,
    "lenType": 16,
    "lenVar": 40
   },
   "kernels_config": {
    "python": {
     "delete_cmd_postfix": "",
     "delete_cmd_prefix": "del ",
     "library": "var_list.py",
     "varRefreshCmd": "print(var_dic_list())"
    },
    "r": {
     "delete_cmd_postfix": ") ",
     "delete_cmd_prefix": "rm(",
     "library": "var_list.r",
     "varRefreshCmd": "cat(var_dic_list()) "
    }
   },
   "types_to_exclude": [
    "module",
    "function",
    "builtin_function_or_method",
    "instance",
    "_Feature"
   ],
   "window_display": false
  }
 },
 "nbformat": 4,
 "nbformat_minor": 2
}
