{
 "cells": [
  {
   "cell_type": "markdown",
   "metadata": {},
   "source": [
    "Preparing metabolite file for MAGI\n",
    "\n",
    "# Import libraries"
   ]
  },
  {
   "cell_type": "code",
   "execution_count": 1,
   "metadata": {},
   "outputs": [],
   "source": [
    "import os\n",
    "import pandas as pd\n",
    "import numpy as np"
   ]
  },
  {
   "cell_type": "markdown",
   "metadata": {},
   "source": [
    "# Concat the exploded Sirius file with the GNPS and wrangle with the data"
   ]
  },
  {
   "cell_type": "code",
   "execution_count": 2,
   "metadata": {},
   "outputs": [
    {
     "data": {
      "text/html": [
       "<div>\n",
       "<style scoped>\n",
       "    .dataframe tbody tr th:only-of-type {\n",
       "        vertical-align: middle;\n",
       "    }\n",
       "\n",
       "    .dataframe tbody tr th {\n",
       "        vertical-align: top;\n",
       "    }\n",
       "\n",
       "    .dataframe thead th {\n",
       "        text-align: right;\n",
       "    }\n",
       "</style>\n",
       "<table border=\"1\" class=\"dataframe\">\n",
       "  <thead>\n",
       "    <tr style=\"text-align: right;\">\n",
       "      <th></th>\n",
       "      <th>label</th>\n",
       "      <th>original_compound</th>\n",
       "      <th>mzmed</th>\n",
       "      <th>rtmed</th>\n",
       "    </tr>\n",
       "  </thead>\n",
       "  <tbody>\n",
       "    <tr>\n",
       "      <th>0</th>\n",
       "      <td>FT0216</td>\n",
       "      <td>IDBSUEYMOGXINU-UHFFFAOYSA-N</td>\n",
       "      <td>263.055849</td>\n",
       "      <td>803.683023</td>\n",
       "    </tr>\n",
       "    <tr>\n",
       "      <th>1</th>\n",
       "      <td>FT0221</td>\n",
       "      <td>RJKKLMSSEUZHKT-UHFFFAOYSA-N</td>\n",
       "      <td>265.148096</td>\n",
       "      <td>1749.479658</td>\n",
       "    </tr>\n",
       "    <tr>\n",
       "      <th>2</th>\n",
       "      <td>FT0199</td>\n",
       "      <td>BEWWACPMZXTGDS-UHFFFAOYSA-N</td>\n",
       "      <td>259.090674</td>\n",
       "      <td>98.782511</td>\n",
       "    </tr>\n",
       "    <tr>\n",
       "      <th>3</th>\n",
       "      <td>FT0227</td>\n",
       "      <td>NQAZHXBSLFDVKM-KVQBGUIXSA-N</td>\n",
       "      <td>267.071330</td>\n",
       "      <td>103.144450</td>\n",
       "    </tr>\n",
       "    <tr>\n",
       "      <th>4</th>\n",
       "      <td>FT0227</td>\n",
       "      <td>NQAZHXBSLFDVKM-UHFFFAOYSA-N</td>\n",
       "      <td>267.071330</td>\n",
       "      <td>103.144450</td>\n",
       "    </tr>\n",
       "  </tbody>\n",
       "</table>\n",
       "</div>"
      ],
      "text/plain": [
       "    label            original_compound       mzmed        rtmed\n",
       "0  FT0216  IDBSUEYMOGXINU-UHFFFAOYSA-N  263.055849   803.683023\n",
       "1  FT0221  RJKKLMSSEUZHKT-UHFFFAOYSA-N  265.148096  1749.479658\n",
       "2  FT0199  BEWWACPMZXTGDS-UHFFFAOYSA-N  259.090674    98.782511\n",
       "3  FT0227  NQAZHXBSLFDVKM-KVQBGUIXSA-N  267.071330   103.144450\n",
       "4  FT0227  NQAZHXBSLFDVKM-UHFFFAOYSA-N  267.071330   103.144450"
      ]
     },
     "execution_count": 2,
     "metadata": {},
     "output_type": "execute_result"
    }
   ],
   "source": [
    "sirius_exploded = pd.read_csv('../2_ms2_annotation/summary_output_SIRIUS_exploded.csv')\n",
    "\n",
    "gnps = pd.read_csv('../2_ms2_annotation/summary_output_GNPS.csv')\n",
    "\n",
    "features_gnps = list(gnps['Features'].values)\n",
    "\n",
    "for ft in features_gnps:\n",
    "    for index,row in sirius_exploded.iterrows():\n",
    "        if row['Features'] == ft:\n",
    "            sirius_exploded.drop(index, axis=0, inplace=True)\n",
    "        else:\n",
    "            continue\n",
    "            \n",
    "ms2_concat = pd.concat([sirius_exploded, gnps], axis=0).reset_index(drop=True)\n",
    "\n",
    "fdefinitions = pd.read_csv('../1_preprocessing/featureDefinitions.csv')\n",
    "\n",
    "fdefinitions = fdefinitions[['Features', 'mzmed', 'rtmed']]\n",
    "\n",
    "magi = ms2_concat.merge(fdefinitions, on='Features')\n",
    "\n",
    "magi = magi[['Features', 'InChIKey', 'mzmed', 'rtmed']]\n",
    "\n",
    "magi = magi.rename(columns={'Features':'label', 'InChIKey':'original_compound'})\n",
    "\n",
    "magi.to_csv('metabolome/compounds_input.csv', index=False)\n",
    "\n",
    "magi.head()"
   ]
  },
  {
   "cell_type": "code",
   "execution_count": null,
   "metadata": {},
   "outputs": [],
   "source": []
  }
 ],
 "metadata": {
  "kernelspec": {
   "display_name": "Python 3",
   "language": "python",
   "name": "python3"
  },
  "language_info": {
   "codemirror_mode": {
    "name": "ipython",
    "version": 3
   },
   "file_extension": ".py",
   "mimetype": "text/x-python",
   "name": "python",
   "nbconvert_exporter": "python",
   "pygments_lexer": "ipython3",
   "version": "3.9.0"
  },
  "toc": {
   "base_numbering": 1,
   "nav_menu": {},
   "number_sections": true,
   "sideBar": true,
   "skip_h1_title": false,
   "title_cell": "Table of Contents",
   "title_sidebar": "Contents",
   "toc_cell": false,
   "toc_position": {},
   "toc_section_display": true,
   "toc_window_display": false
  },
  "varInspector": {
   "cols": {
    "lenName": 16,
    "lenType": 16,
    "lenVar": 40
   },
   "kernels_config": {
    "python": {
     "delete_cmd_postfix": "",
     "delete_cmd_prefix": "del ",
     "library": "var_list.py",
     "varRefreshCmd": "print(var_dic_list())"
    },
    "r": {
     "delete_cmd_postfix": ") ",
     "delete_cmd_prefix": "rm(",
     "library": "var_list.r",
     "varRefreshCmd": "cat(var_dic_list()) "
    }
   },
   "types_to_exclude": [
    "module",
    "function",
    "builtin_function_or_method",
    "instance",
    "_Feature"
   ],
   "window_display": false
  }
 },
 "nbformat": 4,
 "nbformat_minor": 4
}
