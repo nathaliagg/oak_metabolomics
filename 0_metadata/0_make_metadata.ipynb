{
 "cells": [
  {
   "cell_type": "markdown",
   "metadata": {
    "toc": true
   },
   "source": [
    "<h1>Table of Contents<span class=\"tocSkip\"></span></h1>\n",
    "<div class=\"toc\"><ul class=\"toc-item\"><li><span><a href=\"#Making-a-metadata-file\" data-toc-modified-id=\"Making-a-metadata-file-1\"><span class=\"toc-item-num\">1&nbsp;&nbsp;</span>Making a metadata file</a></span><ul class=\"toc-item\"><li><span><a href=\"#Import-necessary-libraries\" data-toc-modified-id=\"Import-necessary-libraries-1.1\"><span class=\"toc-item-num\">1.1&nbsp;&nbsp;</span>Import necessary libraries</a></span></li><li><span><a href=\"#Glob-list-of-.mzXML-files,-make-dataframe\" data-toc-modified-id=\"Glob-list-of-.mzXML-files,-make-dataframe-1.2\"><span class=\"toc-item-num\">1.2&nbsp;&nbsp;</span>Glob list of <code>.mzXML</code> files, make dataframe</a></span></li><li><span><a href=\"#From-metadata-file-from-Jana:\" data-toc-modified-id=\"From-metadata-file-from-Jana:-1.3\"><span class=\"toc-item-num\">1.3&nbsp;&nbsp;</span>From metadata file from Jana:</a></span></li><li><span><a href=\"#Merge-metadata-from-Jane-with-the-dataframe-of-sample-filenames\" data-toc-modified-id=\"Merge-metadata-from-Jane-with-the-dataframe-of-sample-filenames-1.4\"><span class=\"toc-item-num\">1.4&nbsp;&nbsp;</span>Merge metadata from Jane with the dataframe of sample filenames</a></span></li><li><span><a href=\"#Exclude-LeafLife-==-'Evergreen'-and-LeafType-==-'Dead'\" data-toc-modified-id=\"Exclude-LeafLife-==-'Evergreen'-and-LeafType-==-'Dead'-1.5\"><span class=\"toc-item-num\">1.5&nbsp;&nbsp;</span>Exclude <code>LeafLife == 'Evergreen'</code> and <code>LeafType == 'Dead'</code></a></span></li><li><span><a href=\"#Save\" data-toc-modified-id=\"Save-1.6\"><span class=\"toc-item-num\">1.6&nbsp;&nbsp;</span>Save</a></span></li></ul></li></ul></div>"
   ]
  },
  {
   "cell_type": "markdown",
   "metadata": {},
   "source": [
    "# Making a metadata file\n",
    "\n",
    "## Import necessary libraries"
   ]
  },
  {
   "cell_type": "code",
   "execution_count": 1,
   "metadata": {},
   "outputs": [],
   "source": [
    "import pandas as pd\n",
    "import numpy as np\n",
    "import glob"
   ]
  },
  {
   "cell_type": "markdown",
   "metadata": {},
   "source": [
    "## Glob list of `.mzXML` files, make dataframe"
   ]
  },
  {
   "cell_type": "code",
   "execution_count": 16,
   "metadata": {
    "scrolled": true
   },
   "outputs": [
    {
     "name": "stdout",
     "output_type": "stream",
     "text": [
      "n files =  24\n"
     ]
    },
    {
     "data": {
      "text/html": [
       "<div>\n",
       "<style scoped>\n",
       "    .dataframe tbody tr th:only-of-type {\n",
       "        vertical-align: middle;\n",
       "    }\n",
       "\n",
       "    .dataframe tbody tr th {\n",
       "        vertical-align: top;\n",
       "    }\n",
       "\n",
       "    .dataframe thead th {\n",
       "        text-align: right;\n",
       "    }\n",
       "</style>\n",
       "<table border=\"1\" class=\"dataframe\">\n",
       "  <thead>\n",
       "    <tr style=\"text-align: right;\">\n",
       "      <th></th>\n",
       "      <th>FileName</th>\n",
       "      <th>SampleCode</th>\n",
       "    </tr>\n",
       "  </thead>\n",
       "  <tbody>\n",
       "    <tr>\n",
       "      <th>0</th>\n",
       "      <td>Tfaily_QLE-17L-M_15Nov19_Gimli_Zorbax-1190_neg...</td>\n",
       "      <td>QLE-17L</td>\n",
       "    </tr>\n",
       "    <tr>\n",
       "      <th>1</th>\n",
       "      <td>Tfaily_QMI-5D-M_15Nov19_Gimli_Zorbax-1190_neg....</td>\n",
       "      <td>QMI-5D</td>\n",
       "    </tr>\n",
       "    <tr>\n",
       "      <th>2</th>\n",
       "      <td>Tfaily_QMI-5L-M_15Nov19_Gimli_Zorbax-1190_neg....</td>\n",
       "      <td>QMI-5L</td>\n",
       "    </tr>\n",
       "    <tr>\n",
       "      <th>3</th>\n",
       "      <td>Tfaily_QMY-20D-M_15Nov19_Gimli_Zorbax-1190_neg...</td>\n",
       "      <td>QMY-20D</td>\n",
       "    </tr>\n",
       "    <tr>\n",
       "      <th>4</th>\n",
       "      <td>Tfaily_QMY-20L-M_15Nov19_Gimli_Zorbax-1190_neg...</td>\n",
       "      <td>QMY-20L</td>\n",
       "    </tr>\n",
       "  </tbody>\n",
       "</table>\n",
       "</div>"
      ],
      "text/plain": [
       "                                            FileName SampleCode\n",
       "0  Tfaily_QLE-17L-M_15Nov19_Gimli_Zorbax-1190_neg...    QLE-17L\n",
       "1  Tfaily_QMI-5D-M_15Nov19_Gimli_Zorbax-1190_neg....     QMI-5D\n",
       "2  Tfaily_QMI-5L-M_15Nov19_Gimli_Zorbax-1190_neg....     QMI-5L\n",
       "3  Tfaily_QMY-20D-M_15Nov19_Gimli_Zorbax-1190_neg...    QMY-20D\n",
       "4  Tfaily_QMY-20L-M_15Nov19_Gimli_Zorbax-1190_neg...    QMY-20L"
      ]
     },
     "execution_count": 16,
     "metadata": {},
     "output_type": "execute_result"
    }
   ],
   "source": [
    "list_files = glob.glob('../../2019/for_xcms/*mzXML')\n",
    "list_files = [(x.split('/')[-1], x.split('/')[-1].split('_')[1][:-2]) for x in list_files]\n",
    "files_df = pd.DataFrame(list_files, columns =['FileName', 'SampleCode']) \n",
    "\n",
    "print('n files = ', len(list_files))\n",
    "\n",
    "files_df.head()"
   ]
  },
  {
   "cell_type": "markdown",
   "metadata": {},
   "source": [
    "## From metadata file from Jana:\n",
    "\n",
    "1. Fix column names\n",
    "2. Capitalize values in certain columns"
   ]
  },
  {
   "cell_type": "code",
   "execution_count": 13,
   "metadata": {},
   "outputs": [
    {
     "data": {
      "text/html": [
       "<div>\n",
       "<style scoped>\n",
       "    .dataframe tbody tr th:only-of-type {\n",
       "        vertical-align: middle;\n",
       "    }\n",
       "\n",
       "    .dataframe tbody tr th {\n",
       "        vertical-align: top;\n",
       "    }\n",
       "\n",
       "    .dataframe thead th {\n",
       "        text-align: right;\n",
       "    }\n",
       "</style>\n",
       "<table border=\"1\" class=\"dataframe\">\n",
       "  <thead>\n",
       "    <tr style=\"text-align: right;\">\n",
       "      <th></th>\n",
       "      <th>Metabolomics</th>\n",
       "      <th>SampleCode</th>\n",
       "      <th>DatePreparedforMetabolomics</th>\n",
       "      <th>SpeciesName</th>\n",
       "      <th>OakType</th>\n",
       "      <th>State</th>\n",
       "      <th>LeafType</th>\n",
       "      <th>LeafLife</th>\n",
       "    </tr>\n",
       "  </thead>\n",
       "  <tbody>\n",
       "    <tr>\n",
       "      <th>0</th>\n",
       "      <td>Include</td>\n",
       "      <td>QAU-1D</td>\n",
       "      <td>2019-10-10</td>\n",
       "      <td>Q. austrina</td>\n",
       "      <td>White</td>\n",
       "      <td>FL</td>\n",
       "      <td>Dead</td>\n",
       "      <td>Deciduous</td>\n",
       "    </tr>\n",
       "    <tr>\n",
       "      <th>1</th>\n",
       "      <td>Include</td>\n",
       "      <td>QAU-1L</td>\n",
       "      <td>2019-10-10</td>\n",
       "      <td>Q. austrina</td>\n",
       "      <td>White</td>\n",
       "      <td>FL</td>\n",
       "      <td>Living</td>\n",
       "      <td>Deciduous</td>\n",
       "    </tr>\n",
       "    <tr>\n",
       "      <th>2</th>\n",
       "      <td>Include</td>\n",
       "      <td>QGE-2D</td>\n",
       "      <td>2019-10-10</td>\n",
       "      <td>Q. geminata</td>\n",
       "      <td>White</td>\n",
       "      <td>FL</td>\n",
       "      <td>Dead</td>\n",
       "      <td>Brevideciduous</td>\n",
       "    </tr>\n",
       "    <tr>\n",
       "      <th>3</th>\n",
       "      <td>Include</td>\n",
       "      <td>QGE-2L</td>\n",
       "      <td>2019-10-10</td>\n",
       "      <td>Q. geminata</td>\n",
       "      <td>White</td>\n",
       "      <td>FL</td>\n",
       "      <td>Living</td>\n",
       "      <td>Brevideciduous</td>\n",
       "    </tr>\n",
       "    <tr>\n",
       "      <th>4</th>\n",
       "      <td>Include</td>\n",
       "      <td>QHE-16D</td>\n",
       "      <td>2019-10-10</td>\n",
       "      <td>Q. hemisphaerica</td>\n",
       "      <td>Red</td>\n",
       "      <td>FL</td>\n",
       "      <td>Dead</td>\n",
       "      <td>Brevideciduous</td>\n",
       "    </tr>\n",
       "  </tbody>\n",
       "</table>\n",
       "</div>"
      ],
      "text/plain": [
       "  Metabolomics SampleCode DatePreparedforMetabolomics       SpeciesName  \\\n",
       "0      Include     QAU-1D                  2019-10-10       Q. austrina   \n",
       "1      Include     QAU-1L                  2019-10-10       Q. austrina   \n",
       "2      Include     QGE-2D                  2019-10-10       Q. geminata   \n",
       "3      Include     QGE-2L                  2019-10-10       Q. geminata   \n",
       "4      Include    QHE-16D                  2019-10-10  Q. hemisphaerica   \n",
       "\n",
       "  OakType State LeafType        LeafLife  \n",
       "0   White    FL     Dead       Deciduous  \n",
       "1   White    FL   Living       Deciduous  \n",
       "2   White    FL     Dead  Brevideciduous  \n",
       "3   White    FL   Living  Brevideciduous  \n",
       "4     Red    FL     Dead  Brevideciduous  "
      ]
     },
     "execution_count": 13,
     "metadata": {},
     "output_type": "execute_result"
    }
   ],
   "source": [
    "metadata = pd.read_excel('Oak-Metabolomics-Sample-Metadata.xlsx', usecols=list(range(8)))\n",
    "metadata.columns = metadata.columns.str.replace(' ', '')\n",
    "metadata = metadata.rename(columns={'R/WOak':'OakType'})\n",
    "metadata['OakType'] = metadata['OakType'].str.capitalize()\n",
    "metadata['LeafType'] = metadata['LeafType'].str.capitalize()\n",
    "metadata.head()"
   ]
  },
  {
   "cell_type": "markdown",
   "metadata": {},
   "source": [
    "3. Check unique entries in the metadata to make sure there are no inconsistencies like spaces where there shouldn't be any..."
   ]
  },
  {
   "cell_type": "code",
   "execution_count": 14,
   "metadata": {
    "scrolled": true
   },
   "outputs": [
    {
     "name": "stdout",
     "output_type": "stream",
     "text": [
      "['Include' 'Exclude']\n",
      "['QAU-1D' 'QAU-1L' 'QGE-2D' 'QGE-2L' 'QHE-16D' 'QHE-16L' 'QLE-17D'\n",
      " 'QLE-17L' 'QLA-3D' 'QLA-3L' 'QMI-5D' 'QMI-5L' 'QMY-20D' 'QMY-20L'\n",
      " 'QNI-7D' 'QNI-8D' 'QNI-7L' 'QNI-8L' 'QVI-11D' 'QVI-11L' 'QIN-27L'\n",
      " 'QIN-28L' 'QSH-14D' 'QSH-15D']\n",
      "['2019-10-10T00:00:00.000000000']\n",
      "['Q. austrina' 'Q. geminata' 'Q. hemisphaerica' 'Q. laevis'\n",
      " 'Q. laurifolia' 'Q. michauxii' 'Q. myrtifolia' 'Q. nigra' 'Q. virginiana'\n",
      " 'Q. incana' 'Q. shumardii']\n",
      "['White' 'Red']\n",
      "['FL']\n",
      "['Dead' 'Living']\n",
      "['Deciduous' 'Brevideciduous' 'Evergreen']\n"
     ]
    }
   ],
   "source": [
    "for col in metadata.columns:\n",
    "    print(metadata[col].unique())"
   ]
  },
  {
   "cell_type": "markdown",
   "metadata": {},
   "source": [
    "## Merge metadata from Jane with the dataframe of sample filenames"
   ]
  },
  {
   "cell_type": "code",
   "execution_count": 17,
   "metadata": {
    "scrolled": true
   },
   "outputs": [
    {
     "data": {
      "text/html": [
       "<div>\n",
       "<style scoped>\n",
       "    .dataframe tbody tr th:only-of-type {\n",
       "        vertical-align: middle;\n",
       "    }\n",
       "\n",
       "    .dataframe tbody tr th {\n",
       "        vertical-align: top;\n",
       "    }\n",
       "\n",
       "    .dataframe thead th {\n",
       "        text-align: right;\n",
       "    }\n",
       "</style>\n",
       "<table border=\"1\" class=\"dataframe\">\n",
       "  <thead>\n",
       "    <tr style=\"text-align: right;\">\n",
       "      <th></th>\n",
       "      <th>Metabolomics</th>\n",
       "      <th>SampleCode</th>\n",
       "      <th>DatePreparedforMetabolomics</th>\n",
       "      <th>SpeciesName</th>\n",
       "      <th>OakType</th>\n",
       "      <th>State</th>\n",
       "      <th>LeafType</th>\n",
       "      <th>LeafLife</th>\n",
       "      <th>FileName</th>\n",
       "    </tr>\n",
       "  </thead>\n",
       "  <tbody>\n",
       "    <tr>\n",
       "      <th>0</th>\n",
       "      <td>Include</td>\n",
       "      <td>QAU-1D</td>\n",
       "      <td>2019-10-10</td>\n",
       "      <td>Q. austrina</td>\n",
       "      <td>White</td>\n",
       "      <td>FL</td>\n",
       "      <td>Dead</td>\n",
       "      <td>Deciduous</td>\n",
       "      <td>Tfaily_QAU-1D-M_15Nov19_Gimli_Zorbax-1190_neg....</td>\n",
       "    </tr>\n",
       "    <tr>\n",
       "      <th>1</th>\n",
       "      <td>Include</td>\n",
       "      <td>QAU-1L</td>\n",
       "      <td>2019-10-10</td>\n",
       "      <td>Q. austrina</td>\n",
       "      <td>White</td>\n",
       "      <td>FL</td>\n",
       "      <td>Living</td>\n",
       "      <td>Deciduous</td>\n",
       "      <td>Tfaily_QAU-1L-M_15Nov19_Gimli_Zorbax-1190_neg....</td>\n",
       "    </tr>\n",
       "    <tr>\n",
       "      <th>2</th>\n",
       "      <td>Include</td>\n",
       "      <td>QGE-2D</td>\n",
       "      <td>2019-10-10</td>\n",
       "      <td>Q. geminata</td>\n",
       "      <td>White</td>\n",
       "      <td>FL</td>\n",
       "      <td>Dead</td>\n",
       "      <td>Brevideciduous</td>\n",
       "      <td>Tfaily_QGE-2D-M_15Nov19_Gimli_Zorbax-1190_neg....</td>\n",
       "    </tr>\n",
       "    <tr>\n",
       "      <th>3</th>\n",
       "      <td>Include</td>\n",
       "      <td>QGE-2L</td>\n",
       "      <td>2019-10-10</td>\n",
       "      <td>Q. geminata</td>\n",
       "      <td>White</td>\n",
       "      <td>FL</td>\n",
       "      <td>Living</td>\n",
       "      <td>Brevideciduous</td>\n",
       "      <td>Tfaily_QGE-2L-M_15Nov19_Gimli_Zorbax-1190_neg....</td>\n",
       "    </tr>\n",
       "    <tr>\n",
       "      <th>4</th>\n",
       "      <td>Include</td>\n",
       "      <td>QHE-16D</td>\n",
       "      <td>2019-10-10</td>\n",
       "      <td>Q. hemisphaerica</td>\n",
       "      <td>Red</td>\n",
       "      <td>FL</td>\n",
       "      <td>Dead</td>\n",
       "      <td>Brevideciduous</td>\n",
       "      <td>Tfaily_QHE-16D-M_15Nov19_Gimli_Zorbax-1190_neg...</td>\n",
       "    </tr>\n",
       "  </tbody>\n",
       "</table>\n",
       "</div>"
      ],
      "text/plain": [
       "  Metabolomics SampleCode DatePreparedforMetabolomics       SpeciesName  \\\n",
       "0      Include     QAU-1D                  2019-10-10       Q. austrina   \n",
       "1      Include     QAU-1L                  2019-10-10       Q. austrina   \n",
       "2      Include     QGE-2D                  2019-10-10       Q. geminata   \n",
       "3      Include     QGE-2L                  2019-10-10       Q. geminata   \n",
       "4      Include    QHE-16D                  2019-10-10  Q. hemisphaerica   \n",
       "\n",
       "  OakType State LeafType        LeafLife  \\\n",
       "0   White    FL     Dead       Deciduous   \n",
       "1   White    FL   Living       Deciduous   \n",
       "2   White    FL     Dead  Brevideciduous   \n",
       "3   White    FL   Living  Brevideciduous   \n",
       "4     Red    FL     Dead  Brevideciduous   \n",
       "\n",
       "                                            FileName  \n",
       "0  Tfaily_QAU-1D-M_15Nov19_Gimli_Zorbax-1190_neg....  \n",
       "1  Tfaily_QAU-1L-M_15Nov19_Gimli_Zorbax-1190_neg....  \n",
       "2  Tfaily_QGE-2D-M_15Nov19_Gimli_Zorbax-1190_neg....  \n",
       "3  Tfaily_QGE-2L-M_15Nov19_Gimli_Zorbax-1190_neg....  \n",
       "4  Tfaily_QHE-16D-M_15Nov19_Gimli_Zorbax-1190_neg...  "
      ]
     },
     "execution_count": 17,
     "metadata": {},
     "output_type": "execute_result"
    }
   ],
   "source": [
    "metadata = metadata.merge(files_df, on=\"SampleCode\")\n",
    "metadata.head()"
   ]
  },
  {
   "cell_type": "markdown",
   "metadata": {},
   "source": [
    "## Exclude `LeafLife == 'Evergreen'` and `LeafType == 'Dead'`"
   ]
  },
  {
   "cell_type": "code",
   "execution_count": 21,
   "metadata": {
    "scrolled": true
   },
   "outputs": [
    {
     "name": "stdout",
     "output_type": "stream",
     "text": [
      "n files =  11\n"
     ]
    },
    {
     "data": {
      "text/html": [
       "<div>\n",
       "<style scoped>\n",
       "    .dataframe tbody tr th:only-of-type {\n",
       "        vertical-align: middle;\n",
       "    }\n",
       "\n",
       "    .dataframe tbody tr th {\n",
       "        vertical-align: top;\n",
       "    }\n",
       "\n",
       "    .dataframe thead th {\n",
       "        text-align: right;\n",
       "    }\n",
       "</style>\n",
       "<table border=\"1\" class=\"dataframe\">\n",
       "  <thead>\n",
       "    <tr style=\"text-align: right;\">\n",
       "      <th></th>\n",
       "      <th>SampleCode</th>\n",
       "      <th>DatePreparedforMetabolomics</th>\n",
       "      <th>SpeciesName</th>\n",
       "      <th>OakType</th>\n",
       "      <th>State</th>\n",
       "      <th>LeafType</th>\n",
       "      <th>LeafLife</th>\n",
       "      <th>FileName</th>\n",
       "    </tr>\n",
       "  </thead>\n",
       "  <tbody>\n",
       "    <tr>\n",
       "      <th>0</th>\n",
       "      <td>QAU-1L</td>\n",
       "      <td>2019-10-10</td>\n",
       "      <td>Q. austrina</td>\n",
       "      <td>White</td>\n",
       "      <td>FL</td>\n",
       "      <td>Living</td>\n",
       "      <td>Deciduous</td>\n",
       "      <td>Tfaily_QAU-1L-M_15Nov19_Gimli_Zorbax-1190_neg....</td>\n",
       "    </tr>\n",
       "    <tr>\n",
       "      <th>1</th>\n",
       "      <td>QGE-2L</td>\n",
       "      <td>2019-10-10</td>\n",
       "      <td>Q. geminata</td>\n",
       "      <td>White</td>\n",
       "      <td>FL</td>\n",
       "      <td>Living</td>\n",
       "      <td>Brevideciduous</td>\n",
       "      <td>Tfaily_QGE-2L-M_15Nov19_Gimli_Zorbax-1190_neg....</td>\n",
       "    </tr>\n",
       "    <tr>\n",
       "      <th>2</th>\n",
       "      <td>QHE-16L</td>\n",
       "      <td>2019-10-10</td>\n",
       "      <td>Q. hemisphaerica</td>\n",
       "      <td>Red</td>\n",
       "      <td>FL</td>\n",
       "      <td>Living</td>\n",
       "      <td>Brevideciduous</td>\n",
       "      <td>Tfaily_QHE-16L-M_15Nov19_Gimli_Zorbax-1190_neg...</td>\n",
       "    </tr>\n",
       "    <tr>\n",
       "      <th>3</th>\n",
       "      <td>QLE-17L</td>\n",
       "      <td>2019-10-10</td>\n",
       "      <td>Q. laevis</td>\n",
       "      <td>Red</td>\n",
       "      <td>FL</td>\n",
       "      <td>Living</td>\n",
       "      <td>Deciduous</td>\n",
       "      <td>Tfaily_QLE-17L-M_15Nov19_Gimli_Zorbax-1190_neg...</td>\n",
       "    </tr>\n",
       "    <tr>\n",
       "      <th>4</th>\n",
       "      <td>QLA-3L</td>\n",
       "      <td>2019-10-10</td>\n",
       "      <td>Q. laurifolia</td>\n",
       "      <td>Red</td>\n",
       "      <td>FL</td>\n",
       "      <td>Living</td>\n",
       "      <td>Brevideciduous</td>\n",
       "      <td>Tfaily_QLA-3L-M_15Nov19_Gimli_Zorbax-1190_neg....</td>\n",
       "    </tr>\n",
       "  </tbody>\n",
       "</table>\n",
       "</div>"
      ],
      "text/plain": [
       "  SampleCode DatePreparedforMetabolomics       SpeciesName OakType State  \\\n",
       "0     QAU-1L                  2019-10-10       Q. austrina   White    FL   \n",
       "1     QGE-2L                  2019-10-10       Q. geminata   White    FL   \n",
       "2    QHE-16L                  2019-10-10  Q. hemisphaerica     Red    FL   \n",
       "3    QLE-17L                  2019-10-10         Q. laevis     Red    FL   \n",
       "4     QLA-3L                  2019-10-10     Q. laurifolia     Red    FL   \n",
       "\n",
       "  LeafType        LeafLife                                           FileName  \n",
       "0   Living       Deciduous  Tfaily_QAU-1L-M_15Nov19_Gimli_Zorbax-1190_neg....  \n",
       "1   Living  Brevideciduous  Tfaily_QGE-2L-M_15Nov19_Gimli_Zorbax-1190_neg....  \n",
       "2   Living  Brevideciduous  Tfaily_QHE-16L-M_15Nov19_Gimli_Zorbax-1190_neg...  \n",
       "3   Living       Deciduous  Tfaily_QLE-17L-M_15Nov19_Gimli_Zorbax-1190_neg...  \n",
       "4   Living  Brevideciduous  Tfaily_QLA-3L-M_15Nov19_Gimli_Zorbax-1190_neg....  "
      ]
     },
     "execution_count": 21,
     "metadata": {},
     "output_type": "execute_result"
    }
   ],
   "source": [
    "metadata = metadata[(metadata['LeafLife'] != 'Evergreen')\n",
    "         & (metadata['LeafType'] != 'Dead')].reset_index(drop=True)\n",
    "metadata.drop('Metabolomics', axis = 1, inplace=True)\n",
    "print('n files = ', metadata.shape[0])\n",
    "metadata.head()"
   ]
  },
  {
   "cell_type": "markdown",
   "metadata": {},
   "source": [
    "## Save"
   ]
  },
  {
   "cell_type": "code",
   "execution_count": 22,
   "metadata": {},
   "outputs": [],
   "source": [
    "metadata.to_csv('metadata.csv', index=False)"
   ]
  },
  {
   "cell_type": "code",
   "execution_count": null,
   "metadata": {},
   "outputs": [],
   "source": []
  }
 ],
 "metadata": {
  "kernelspec": {
   "display_name": "Python 3",
   "language": "python",
   "name": "python3"
  },
  "language_info": {
   "codemirror_mode": {
    "name": "ipython",
    "version": 3
   },
   "file_extension": ".py",
   "mimetype": "text/x-python",
   "name": "python",
   "nbconvert_exporter": "python",
   "pygments_lexer": "ipython3",
   "version": "3.9.0"
  },
  "toc": {
   "base_numbering": 1,
   "nav_menu": {},
   "number_sections": true,
   "sideBar": true,
   "skip_h1_title": false,
   "title_cell": "Table of Contents",
   "title_sidebar": "Contents",
   "toc_cell": true,
   "toc_position": {},
   "toc_section_display": true,
   "toc_window_display": true
  },
  "varInspector": {
   "cols": {
    "lenName": 16,
    "lenType": 16,
    "lenVar": 40
   },
   "kernels_config": {
    "python": {
     "delete_cmd_postfix": "",
     "delete_cmd_prefix": "del ",
     "library": "var_list.py",
     "varRefreshCmd": "print(var_dic_list())"
    },
    "r": {
     "delete_cmd_postfix": ") ",
     "delete_cmd_prefix": "rm(",
     "library": "var_list.r",
     "varRefreshCmd": "cat(var_dic_list()) "
    }
   },
   "types_to_exclude": [
    "module",
    "function",
    "builtin_function_or_method",
    "instance",
    "_Feature"
   ],
   "window_display": false
  }
 },
 "nbformat": 4,
 "nbformat_minor": 2
}
